{
  "nbformat": 4,
  "nbformat_minor": 0,
  "metadata": {
    "colab": {
      "provenance": [],
      "authorship_tag": "ABX9TyO+cjZQPeu9dYHq6eINmTRs",
      "include_colab_link": true
    },
    "kernelspec": {
      "name": "python3",
      "display_name": "Python 3"
    },
    "language_info": {
      "name": "python"
    }
  },
  "cells": [
    {
      "cell_type": "markdown",
      "metadata": {
        "id": "view-in-github",
        "colab_type": "text"
      },
      "source": [
        "<a href=\"https://colab.research.google.com/github/abolfazlahmadi/IntroToAiAndMlClass/blob/main/Class_Notebook.ipynb\" target=\"_parent\"><img src=\"https://colab.research.google.com/assets/colab-badge.svg\" alt=\"Open In Colab\"/></a>"
      ]
    },
    {
      "cell_type": "code",
      "execution_count": null,
      "metadata": {
        "id": "yfHn5fWI6KIU"
      },
      "outputs": [],
      "source": []
    },
    {
      "cell_type": "markdown",
      "source": [
        "S3 20240201\n"
      ],
      "metadata": {
        "id": "W5NCWACz6P95"
      }
    },
    {
      "cell_type": "code",
      "source": [],
      "metadata": {
        "id": "7pwR-wbn6UBg"
      },
      "execution_count": null,
      "outputs": []
    }
  ]
}